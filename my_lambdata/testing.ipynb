{
 "cells": [
  {
   "cell_type": "code",
   "execution_count": 1,
   "metadata": {},
   "outputs": [
    {
     "output_type": "stream",
     "name": "stdout",
     "text": "Looking in indexes: https://test.pypi.org/simple/\nRequirement already satisfied: lambdata-thomasmcdaniel91==0.0.1 in c:\\users\\thomas\\.virtualenvs\\lambdata-thomasmcdaniel91-2d9ieywk\\lib\\site-packages (0.0.1)\n"
    },
    {
     "output_type": "execute_result",
     "data": {
      "text/plain": "  first_name last_name  age Happy_Sad_group  Dosage Drug  Mem_Score_Before  \\\n0    Bastian  Carrasco   25               H       1    A              63.5   \n1       Evan  Carrasco   52               S       1    A              41.6   \n2  Florencia  Carrasco   29               H       1    A              59.7   \n3      Holly  Carrasco   50               S       1    A              51.7   \n4     Justin  Carrasco   52               H       1    A              47.0   \n\n   Mem_Score_After  Diff  \n0             61.2  -2.3  \n1             40.7  -0.9  \n2             55.1  -4.6  \n3             51.2  -0.5  \n4             47.1   0.1  ",
      "text/html": "<div>\n<style scoped>\n    .dataframe tbody tr th:only-of-type {\n        vertical-align: middle;\n    }\n\n    .dataframe tbody tr th {\n        vertical-align: top;\n    }\n\n    .dataframe thead th {\n        text-align: right;\n    }\n</style>\n<table border=\"1\" class=\"dataframe\">\n  <thead>\n    <tr style=\"text-align: right;\">\n      <th></th>\n      <th>first_name</th>\n      <th>last_name</th>\n      <th>age</th>\n      <th>Happy_Sad_group</th>\n      <th>Dosage</th>\n      <th>Drug</th>\n      <th>Mem_Score_Before</th>\n      <th>Mem_Score_After</th>\n      <th>Diff</th>\n    </tr>\n  </thead>\n  <tbody>\n    <tr>\n      <th>0</th>\n      <td>Bastian</td>\n      <td>Carrasco</td>\n      <td>25</td>\n      <td>H</td>\n      <td>1</td>\n      <td>A</td>\n      <td>63.5</td>\n      <td>61.2</td>\n      <td>-2.3</td>\n    </tr>\n    <tr>\n      <th>1</th>\n      <td>Evan</td>\n      <td>Carrasco</td>\n      <td>52</td>\n      <td>S</td>\n      <td>1</td>\n      <td>A</td>\n      <td>41.6</td>\n      <td>40.7</td>\n      <td>-0.9</td>\n    </tr>\n    <tr>\n      <th>2</th>\n      <td>Florencia</td>\n      <td>Carrasco</td>\n      <td>29</td>\n      <td>H</td>\n      <td>1</td>\n      <td>A</td>\n      <td>59.7</td>\n      <td>55.1</td>\n      <td>-4.6</td>\n    </tr>\n    <tr>\n      <th>3</th>\n      <td>Holly</td>\n      <td>Carrasco</td>\n      <td>50</td>\n      <td>S</td>\n      <td>1</td>\n      <td>A</td>\n      <td>51.7</td>\n      <td>51.2</td>\n      <td>-0.5</td>\n    </tr>\n    <tr>\n      <th>4</th>\n      <td>Justin</td>\n      <td>Carrasco</td>\n      <td>52</td>\n      <td>H</td>\n      <td>1</td>\n      <td>A</td>\n      <td>47.0</td>\n      <td>47.1</td>\n      <td>0.1</td>\n    </tr>\n  </tbody>\n</table>\n</div>"
     },
     "metadata": {},
     "execution_count": 1
    }
   ],
   "source": [
    "import pandas as pd\n",
    "!pip install -i https://test.pypi.org/simple/ lambdata-thomasmcdaniel91==0.0.1\n",
    "import add_column\n",
    "import pretty_nulls\n",
    "df = pd.read_csv(r\"C:\\Users\\Thomas\\Datasets\\Islander_data.csv\")\n",
    "df.head()"
   ]
  },
  {
   "cell_type": "code",
   "execution_count": 2,
   "metadata": {},
   "outputs": [],
   "source": [
    "names = list(df['last_name'])"
   ]
  },
  {
   "cell_type": "code",
   "execution_count": 3,
   "metadata": {},
   "outputs": [
    {
     "output_type": "execute_result",
     "data": {
      "text/plain": "  first_name last_name  age Happy_Sad_group  Dosage Drug  Mem_Score_Before  \\\n0    Bastian  Carrasco   25               H       1    A              63.5   \n1       Evan  Carrasco   52               S       1    A              41.6   \n2  Florencia  Carrasco   29               H       1    A              59.7   \n3      Holly  Carrasco   50               S       1    A              51.7   \n4     Justin  Carrasco   52               H       1    A              47.0   \n\n   Mem_Score_After  Diff      last  \n0             61.2  -2.3  Carrasco  \n1             40.7  -0.9  Carrasco  \n2             55.1  -4.6  Carrasco  \n3             51.2  -0.5  Carrasco  \n4             47.1   0.1  Carrasco  ",
      "text/html": "<div>\n<style scoped>\n    .dataframe tbody tr th:only-of-type {\n        vertical-align: middle;\n    }\n\n    .dataframe tbody tr th {\n        vertical-align: top;\n    }\n\n    .dataframe thead th {\n        text-align: right;\n    }\n</style>\n<table border=\"1\" class=\"dataframe\">\n  <thead>\n    <tr style=\"text-align: right;\">\n      <th></th>\n      <th>first_name</th>\n      <th>last_name</th>\n      <th>age</th>\n      <th>Happy_Sad_group</th>\n      <th>Dosage</th>\n      <th>Drug</th>\n      <th>Mem_Score_Before</th>\n      <th>Mem_Score_After</th>\n      <th>Diff</th>\n      <th>last</th>\n    </tr>\n  </thead>\n  <tbody>\n    <tr>\n      <th>0</th>\n      <td>Bastian</td>\n      <td>Carrasco</td>\n      <td>25</td>\n      <td>H</td>\n      <td>1</td>\n      <td>A</td>\n      <td>63.5</td>\n      <td>61.2</td>\n      <td>-2.3</td>\n      <td>Carrasco</td>\n    </tr>\n    <tr>\n      <th>1</th>\n      <td>Evan</td>\n      <td>Carrasco</td>\n      <td>52</td>\n      <td>S</td>\n      <td>1</td>\n      <td>A</td>\n      <td>41.6</td>\n      <td>40.7</td>\n      <td>-0.9</td>\n      <td>Carrasco</td>\n    </tr>\n    <tr>\n      <th>2</th>\n      <td>Florencia</td>\n      <td>Carrasco</td>\n      <td>29</td>\n      <td>H</td>\n      <td>1</td>\n      <td>A</td>\n      <td>59.7</td>\n      <td>55.1</td>\n      <td>-4.6</td>\n      <td>Carrasco</td>\n    </tr>\n    <tr>\n      <th>3</th>\n      <td>Holly</td>\n      <td>Carrasco</td>\n      <td>50</td>\n      <td>S</td>\n      <td>1</td>\n      <td>A</td>\n      <td>51.7</td>\n      <td>51.2</td>\n      <td>-0.5</td>\n      <td>Carrasco</td>\n    </tr>\n    <tr>\n      <th>4</th>\n      <td>Justin</td>\n      <td>Carrasco</td>\n      <td>52</td>\n      <td>H</td>\n      <td>1</td>\n      <td>A</td>\n      <td>47.0</td>\n      <td>47.1</td>\n      <td>0.1</td>\n      <td>Carrasco</td>\n    </tr>\n  </tbody>\n</table>\n</div>"
     },
     "metadata": {},
     "execution_count": 3
    }
   ],
   "source": [
    "\n",
    "df2 = add_column.add_column(df, names, 'last')\n",
    "df2.head()"
   ]
  },
  {
   "cell_type": "code",
   "execution_count": 4,
   "metadata": {},
   "outputs": [
    {
     "output_type": "stream",
     "name": "stdout",
     "text": "The column first_name has 0 null values.\nThe column last_name has 0 null values.\nThe column age has 0 null values.\nThe column Happy_Sad_group has 0 null values.\nThe column Dosage has 0 null values.\nThe column Drug has 0 null values.\nThe column Mem_Score_Before has 0 null values.\nThe column Mem_Score_After has 0 null values.\nThe column Diff has 0 null values.\n"
    }
   ],
   "source": [
    "pretty_nulls.pretty_nulls(df)"
   ]
  },
  {
   "cell_type": "code",
   "execution_count": 5,
   "metadata": {},
   "outputs": [],
   "source": []
  },
  {
   "cell_type": "code",
   "execution_count": 5,
   "metadata": {},
   "outputs": [
    {
     "output_type": "error",
     "ename": "NameError",
     "evalue": "name 'Additions' is not defined",
     "traceback": [
      "\u001b[1;31m---------------------------------------------------------------------------\u001b[0m",
      "\u001b[1;31mNameError\u001b[0m                                 Traceback (most recent call last)",
      "\u001b[1;32m<ipython-input-5-faab88228c52>\u001b[0m in \u001b[0;36m<module>\u001b[1;34m\u001b[0m\n\u001b[1;32m----> 1\u001b[1;33m \u001b[0mnew_df\u001b[0m \u001b[1;33m=\u001b[0m \u001b[0mAdditions\u001b[0m\u001b[1;33m(\u001b[0m\u001b[0mdf\u001b[0m\u001b[1;33m,\u001b[0m \u001b[0mnames\u001b[0m\u001b[1;33m,\u001b[0m \u001b[1;34m'last'\u001b[0m\u001b[1;33m)\u001b[0m\u001b[1;33m\u001b[0m\u001b[1;33m\u001b[0m\u001b[0m\n\u001b[0m\u001b[0;32m      2\u001b[0m \u001b[0mnew_df\u001b[0m \u001b[1;33m=\u001b[0m \u001b[0mnew_df\u001b[0m\u001b[1;33m.\u001b[0m\u001b[0mexten_df\u001b[0m\u001b[1;33m(\u001b[0m\u001b[0mdf\u001b[0m\u001b[1;33m,\u001b[0m \u001b[0mnames\u001b[0m\u001b[1;33m,\u001b[0m \u001b[1;34m'last'\u001b[0m\u001b[1;33m)\u001b[0m\u001b[1;33m\u001b[0m\u001b[1;33m\u001b[0m\u001b[0m\n",
      "\u001b[1;31mNameError\u001b[0m: name 'Additions' is not defined"
     ]
    }
   ],
   "source": [
    "new_df = Additions(df, names, 'last')\n",
    "new_df = new_df.exten_df(df, names, 'last')"
   ]
  },
  {
   "cell_type": "code",
   "execution_count": 6,
   "metadata": {},
   "outputs": [
    {
     "output_type": "error",
     "ename": "NameError",
     "evalue": "name 'new_df' is not defined",
     "traceback": [
      "\u001b[1;31m---------------------------------------------------------------------------\u001b[0m",
      "\u001b[1;31mNameError\u001b[0m                                 Traceback (most recent call last)",
      "\u001b[1;32m<ipython-input-6-58ad22e406d5>\u001b[0m in \u001b[0;36m<module>\u001b[1;34m\u001b[0m\n\u001b[1;32m----> 1\u001b[1;33m \u001b[0mnew_df\u001b[0m\u001b[1;33m.\u001b[0m\u001b[0mhead\u001b[0m\u001b[1;33m(\u001b[0m\u001b[1;33m)\u001b[0m\u001b[1;33m\u001b[0m\u001b[1;33m\u001b[0m\u001b[0m\n\u001b[0m",
      "\u001b[1;31mNameError\u001b[0m: name 'new_df' is not defined"
     ]
    }
   ],
   "source": [
    "new_df.head()"
   ]
  },
  {
   "cell_type": "code",
   "execution_count": 7,
   "metadata": {},
   "outputs": [
    {
     "output_type": "stream",
     "name": "stdout",
     "text": "Looking in indexes: https://test.pypi.org/simple/\nRequirement already satisfied: lambdata-mtoce==1.0.1 in c:\\users\\thomas\\anaconda3\\lib\\site-packages (1.0.1)\nNote: you may need to restart the kernel to use updated packages.\n"
    }
   ],
   "source": [
    "pip install -i https://test.pypi.org/simple/ lambdata-mtoce==1.0.1"
   ]
  },
  {
   "cell_type": "code",
   "execution_count": 8,
   "metadata": {},
   "outputs": [],
   "source": [
    "df = pd.read_csv('https://raw.githubusercontent.com/mtoce/Build2-Project/master/astros_bangs_20200127.csv')"
   ]
  },
  {
   "cell_type": "code",
   "execution_count": 10,
   "metadata": {},
   "outputs": [
    {
     "output_type": "error",
     "ename": "ModuleNotFoundError",
     "evalue": "No module named 'cm'",
     "traceback": [
      "\u001b[1;31m---------------------------------------------------------------------------\u001b[0m",
      "\u001b[1;31mModuleNotFoundError\u001b[0m                       Traceback (most recent call last)",
      "\u001b[1;32m<ipython-input-10-5c75d0ead81d>\u001b[0m in \u001b[0;36m<module>\u001b[1;34m\u001b[0m\n\u001b[1;32m----> 1\u001b[1;33m \u001b[1;32mimport\u001b[0m \u001b[0mcm\u001b[0m\u001b[1;33m\u001b[0m\u001b[1;33m\u001b[0m\u001b[0m\n\u001b[0m",
      "\u001b[1;31mModuleNotFoundError\u001b[0m: No module named 'cm'"
     ]
    }
   ],
   "source": [
    "from my_lambdata"
   ]
  },
  {
   "cell_type": "code",
   "execution_count": null,
   "metadata": {},
   "outputs": [],
   "source": []
  }
 ],
 "metadata": {
  "language_info": {
   "codemirror_mode": {
    "name": "ipython",
    "version": 3
   },
   "file_extension": ".py",
   "mimetype": "text/x-python",
   "name": "python",
   "nbconvert_exporter": "python",
   "pygments_lexer": "ipython3",
   "version": "3.7.6-final"
  },
  "orig_nbformat": 2,
  "kernelspec": {
   "name": "python3",
   "display_name": "Python 3"
  }
 },
 "nbformat": 4,
 "nbformat_minor": 2
}